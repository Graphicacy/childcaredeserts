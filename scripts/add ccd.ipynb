{
 "cells": [
  {
   "cell_type": "code",
   "execution_count": 1,
   "metadata": {
    "collapsed": true
   },
   "outputs": [],
   "source": [
    "import json\n",
    "import sys\n",
    "import os\n",
    "import csv\n",
    "import glob\n"
   ]
  },
  {
   "cell_type": "code",
   "execution_count": 2,
   "metadata": {
    "collapsed": false
   },
   "outputs": [],
   "source": [
    "def load(filename):\n",
    "    with open(filename, 'r') as infile:\n",
    "        data = json.load(infile)\n",
    "        return data\n",
    "\n",
    "with open('../public/data/Child Care Desert binary variable.csv', 'r') as incsv:\n",
    "    deserts = { r['ZCTA']: int(r['ccdesert']) for r in csv.DictReader(incsv) }\n",
    "\n",
    "with open('../public/data/childCareCenters.tsv', 'r') as incsv:\n",
    "    demographics = { r['zip']: r for r in csv.DictReader(incsv, delimiter=\"\\t\") }\n",
    "\n",
    "with open('../public/data/zips_urbanicity.csv') as incsv:\n",
    "    urbanicity = { r['ZCTA']: r for r in csv.DictReader(incsv) }\n",
    "\n"
   ]
  },
  {
   "cell_type": "code",
   "execution_count": 3,
   "metadata": {
    "collapsed": false
   },
   "outputs": [],
   "source": [
    "#\n",
    "# Join zip csvs with geojson\n",
    "#\n",
    "topopath = '../public/data/zcta/'\n",
    "zippath = '../public/data/zipdata/'\n",
    "for filename in glob.glob(topopath + '*'):\n",
    "    data = load(filename)\n",
    "    stateId = None\n",
    "    for geometry in data['features']:\n",
    "        zipcode = geometry['properties']['ZCTA5CE10']\n",
    "        if zipcode in deserts:\n",
    "            geometry['properties']['ccd'] = deserts[zipcode]\n",
    "        if zipcode in demographics:\n",
    "            dem = demographics[zipcode]\n",
    "            if (stateId == None):\n",
    "                stateId = dem['state']\n",
    "#             geometry['properties']['dem'] = {\n",
    "#                 \"b\": dem['black'],\n",
    "#                 \"l\": dem['latino'],\n",
    "#                 \"d\": dem['density'],\n",
    "#                 \"e\": dem['meanearnin']\n",
    "#             }\n",
    "        if zipcode in urbanicity:\n",
    "            urb = urbanicity[zipcode]\n",
    "            geometry['properties']['urb'] = urbanicity[zipcode]['ZIP_type']\n",
    "        \n",
    "    with open(zippath + \"zip_\" + stateId.zfill(2) + \".geo.json\", 'w') as outfile:\n",
    "        json.dump(data, outfile)"
   ]
  },
  {
   "cell_type": "code",
   "execution_count": null,
   "metadata": {
    "collapsed": true
   },
   "outputs": [],
   "source": []
  }
 ],
 "metadata": {
  "kernelspec": {
   "display_name": "Python 2",
   "language": "python",
   "name": "python2"
  },
  "language_info": {
   "codemirror_mode": {
    "name": "ipython",
    "version": 2
   },
   "file_extension": ".py",
   "mimetype": "text/x-python",
   "name": "python",
   "nbconvert_exporter": "python",
   "pygments_lexer": "ipython2",
   "version": "2.7.10"
  }
 },
 "nbformat": 4,
 "nbformat_minor": 0
}
